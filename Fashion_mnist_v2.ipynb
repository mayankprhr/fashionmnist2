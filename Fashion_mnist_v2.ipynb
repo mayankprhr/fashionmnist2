{
  "nbformat": 4,
  "nbformat_minor": 0,
  "metadata": {
    "colab": {
      "name": "Fashion mnist v2",
      "version": "0.3.2",
      "provenance": [],
      "collapsed_sections": [],
      "toc_visible": true,
      "include_colab_link": true
    },
    "kernelspec": {
      "name": "python3",
      "display_name": "Python 3"
    },
    "accelerator": "GPU"
  },
  "cells": [
    {
      "cell_type": "markdown",
      "metadata": {
        "id": "view-in-github",
        "colab_type": "text"
      },
      "source": [
        "[View in Colaboratory](https://colab.research.google.com/github/mayankprhr/fashionmnist2/blob/master/Fashion_mnist_v2.ipynb)"
      ]
    },
    {
      "metadata": {
        "id": "QHpYLJJsJEX6",
        "colab_type": "text"
      },
      "cell_type": "markdown",
      "source": [
        "**This is the first test in my Google Colab for Researcher**\n",
        "\n",
        "So the text part works just the way it should. The question is how to install new packages\n",
        "Lets keep exploring\n",
        "First we get rid of the preinstalled tensorflow and get the GPU varient of it."
      ]
    },
    {
      "metadata": {
        "id": "ZAFSQfF4JQJo",
        "colab_type": "code",
        "colab": {}
      },
      "cell_type": "code",
      "source": [
        "  "
      ],
      "execution_count": 0,
      "outputs": []
    },
    {
      "metadata": {
        "id": "gyDh6yyFgBfw",
        "colab_type": "code",
        "colab": {}
      },
      "cell_type": "code",
      "source": [
        "!pip install tensorflow-gpu"
      ],
      "execution_count": 0,
      "outputs": []
    },
    {
      "metadata": {
        "id": "Y-vTrjGIgkmT",
        "colab_type": "text"
      },
      "cell_type": "markdown",
      "source": [
        "So thats how you can install keras and tensorflow and you need not do it again and again repeatedly\n",
        "The next point comes from using this script. Now i have some training script \n",
        "\n",
        "But first lets get some datasets\n",
        "\n",
        "for that we will try [pydataset](https://github.com/iamaziz/PyDataset) or Quandl shoudl suffice\n",
        "\n",
        "And also we would need some image datasets which keras will give us :3 ....\n",
        "\n"
      ]
    },
    {
      "metadata": {
        "id": "ypeIZ9QmTBB8",
        "colab_type": "code",
        "colab": {}
      },
      "cell_type": "code",
      "source": [
        "import tensorflow as tf"
      ],
      "execution_count": 0,
      "outputs": []
    },
    {
      "metadata": {
        "id": "ncwVIDXRWKYL",
        "colab_type": "code",
        "colab": {}
      },
      "cell_type": "code",
      "source": [
        "import keras"
      ],
      "execution_count": 0,
      "outputs": []
    },
    {
      "metadata": {
        "id": "4tzVQhsArE0I",
        "colab_type": "code",
        "colab": {}
      },
      "cell_type": "code",
      "source": [
        "!pip install matplotlib"
      ],
      "execution_count": 0,
      "outputs": []
    },
    {
      "metadata": {
        "id": "lBNYWDm2Dvis",
        "colab_type": "code",
        "colab": {}
      },
      "cell_type": "code",
      "source": [
        "!pip install numpy"
      ],
      "execution_count": 0,
      "outputs": []
    },
    {
      "metadata": {
        "id": "bqrsNMcMqFdO",
        "colab_type": "code",
        "colab": {}
      },
      "cell_type": "code",
      "source": [
        "!pip install quandl"
      ],
      "execution_count": 0,
      "outputs": []
    },
    {
      "metadata": {
        "id": "3ZMUPBHxqIin",
        "colab_type": "text"
      },
      "cell_type": "markdown",
      "source": [
        "Now we will try an MNIST dataset analysis shall we ....\n",
        "I will just copy paste my own code for this testing purpose"
      ]
    },
    {
      "metadata": {
        "id": "yjxf0M3JqG28",
        "colab_type": "code",
        "colab": {}
      },
      "cell_type": "code",
      "source": [
        "# -*- coding: utf-8 -*-\n",
        "\"\"\"\n",
        "Created on Wed Jan 17 06:43:45 2018\n",
        "@author: Rajat\n",
        "\"\"\"\n",
        "\n",
        "import numpy as np\n",
        "import matplotlib.pyplot as plt\n",
        "from keras.datasets import fashion_mnist as dataset\n",
        "from keras.models import Sequential\n",
        "from keras.layers import Dense, Dropout , Activation,Flatten,Convolution2D, MaxPooling2D ,AveragePooling2D\n",
        "from keras.utils import np_utils\n",
        "\n",
        "\n",
        "\n",
        "def load_preprocess_image_data(data):\n",
        "    (X_train , Y_train),(X_test , Y_test) = data\n",
        "    # making data of type (m , h, w , c)\n",
        "    X_train = X_train.reshape(X_train.shape[0],X_train.shape[1],X_train.shape[2],1) \n",
        "    X_test = X_test.reshape(X_test.shape[0],X_test.shape[1],X_test.shape[2],1) \n",
        "    # making data normalize\n",
        "    X_norm_train = X_train.astype('float32')/255\n",
        "    X_norm_test = X_test.astype('float32')/255\n",
        "    # making classes having one hot encoding\n",
        "    n_class = np.unique(Y_train).shape[0]\n",
        "    Y_encoded_train = np_utils.to_categorical(Y_train,n_class)\n",
        "    Y_encoded_test = np_utils.to_categorical(Y_test,n_class)\n",
        "    return ((X_norm_train , Y_encoded_train),(X_norm_test,Y_encoded_test))\n",
        "\n",
        "def detection_model(shape):\n",
        "    # Conv2d(3,3,c = 64) => Conv2d(4,4,c=128) => Conv2d(2,2,256) => AveragePool(2,2) =>dropoout=> faltten=>Dense=>dropout\n",
        "    # => dense => dense =>output\n",
        "    model = Sequential()\n",
        "    model.add(Convolution2D(32 , kernel_size=(3,3), strides=(1,1) , padding='same' , activation='relu', input_shape=shape))\n",
        "    model.add(Convolution2D(64 , kernel_size=(4,4), strides=(1,1) , padding='same' , activation='relu', input_shape=shape))\n",
        "    model.add(Convolution2D(128 , kernel_size=(4,4), strides=(1,1) , padding='valid' , activation='relu', input_shape=shape))\n",
        "    model.add(AveragePooling2D(pool_size=(2,2)))\n",
        "    model.add(Dropout(0.25))\n",
        "    model.add(Flatten())\n",
        "    model.add(Dense(128, activation='relu'))\n",
        "    model.add(Dropout(0.25))\n",
        "    model.add(Dense(64, activation='relu'))\n",
        "    model.add(Dense(32, activation='relu'))\n",
        "    model.add(Dense(10, activation='softmax'))\n",
        "    model.compile(loss='categorical_crossentropy',\n",
        "                  optimizer='adam',\n",
        "                  metrics=['accuracy'])\n",
        "    return model\n",
        "\n",
        "def save_model(model,name):\n",
        "     model_json = model.to_json()\n",
        "     with open(name+\".json\", \"w\") as json_file:\n",
        "         json_file.write(model_json)\n",
        "     model.save_weights(name+\".h5\")\n",
        "    \n",
        "def load_model_weights(name):\n",
        "    from keras.models import model_from_json\n",
        "    json_file = open(name+'.json', 'r')\n",
        "    loaded_model_json = json_file.read()\n",
        "    json_file.close()\n",
        "    loaded_model = model_from_json(loaded_model_json)\n",
        "    loaded_model.load_weights(name+\".h5\")\n",
        "    loaded_model.compile(loss='categorical_crossentropy',\n",
        "                  optimizer='adam',\n",
        "                  metrics=['accuracy'])\n",
        "    return loaded_model\n",
        "    \n",
        "def verify_entry(X_test,Y_test,model , n):\n",
        "    print(\"Actual Class is:\",np.argmax(Y_test[n:n+1]))\n",
        "    print(\"Predicted Class is: \",np.argmax(model.predict(X_test[n:n+1])))\n",
        "    plt.imshow(X_test[n].reshape(X_test.shape[1],X_test.shape[2]))\n"
      ],
      "execution_count": 0,
      "outputs": []
    },
    {
      "metadata": {
        "id": "vuhpKvy1vbf9",
        "colab_type": "text"
      },
      "cell_type": "markdown",
      "source": [
        "So let us verify whether we are using a GPU or not"
      ]
    },
    {
      "metadata": {
        "id": "MNrgfJldqt55",
        "colab_type": "code",
        "colab": {}
      },
      "cell_type": "code",
      "source": [
        "from tensorflow.python.client import device_lib\n",
        "print(device_lib.list_local_devices())"
      ],
      "execution_count": 0,
      "outputs": []
    },
    {
      "metadata": {
        "id": "goAApNEassnP",
        "colab_type": "text"
      },
      "cell_type": "markdown",
      "source": [
        "Woaaw TESLA K80 we are in for the show gentelmen though the compute capability makes me question.\n",
        "Here is section of [quora](https://www.quora.com/What-is-new-in-CUDA-compute-capability-3-7) on it.\n",
        "Also i think it is the older maxwell or kepler architecture GPU that are present here. Well still the performance should be good enough\n",
        "One more if it helps [comparison of kepler accelerators](https://www.microway.com/knowledge-center-articles/in-depth-comparison-of-nvidia-tesla-kepler-gpu-accelerators/)\n",
        "\n",
        "Ok enough of chit chat lets get to computing\n"
      ]
    },
    {
      "metadata": {
        "id": "LcoMmgy1q2hT",
        "colab_type": "code",
        "colab": {}
      },
      "cell_type": "code",
      "source": [
        "(X_train , Y_train),(X_test , Y_test) = load_preprocess_image_data(dataset.load_data())\n",
        "model = detection_model(X_train[0].shape)\n",
        "model.summary()\n",
        "model.fit(X_train, Y_train, \n",
        "          batch_size=32, nb_epoch=10, verbose=1)\n",
        "score = model.evaluate(X_test, Y_test, verbose=1)\n",
        "\n",
        "verify_entry(X_test,Y_test,model , 1)\n"
      ],
      "execution_count": 0,
      "outputs": []
    },
    {
      "metadata": {
        "id": "4pe3RRXttzRa",
        "colab_type": "code",
        "colab": {
          "base_uri": "https://localhost:8080/",
          "height": 398
        },
        "outputId": "26fec02b-a3c4-46ae-a7fd-d7d359678801"
      },
      "cell_type": "code",
      "source": [
        "print(score)\n",
        "verify_entry(X_test,Y_test,model , 500)"
      ],
      "execution_count": 0,
      "outputs": [
        {
          "output_type": "stream",
          "text": [
            "[0.23298748527765273, 0.9254]\n",
            "Actual Class is: 2\n",
            "Predicted Class is:  2\n"
          ],
          "name": "stdout"
        },
        {
          "output_type": "display_data",
          "data": {
            "image/png": "[encoded data removed]",
            "text/plain": [
              "<matplotlib.figure.Figure at 0x7fe440f4dd68>"
            ]
          },
          "metadata": {
            "tags": []
          }
        }
      ]
    },
    {
      "metadata": {
        "id": "whIQ9T7Z3NEO",
        "colab_type": "text"
      },
      "cell_type": "markdown",
      "source": [
        "Hmm ! that works.\n",
        "Now to save the model and download them"
      ]
    },
    {
      "metadata": {
        "id": "iA_RQ2Y73CX-",
        "colab_type": "code",
        "colab": {}
      },
      "cell_type": "code",
      "source": [
        "save_model(model,\"fashion_mnist\")"
      ],
      "execution_count": 0,
      "outputs": []
    },
    {
      "metadata": {
        "id": "OTrfk_G35k0S",
        "colab_type": "code",
        "colab": {
          "base_uri": "https://localhost:8080/",
          "height": 34
        },
        "outputId": "132a35b4-942b-4690-e9d4-4f4f8ef44047"
      },
      "cell_type": "code",
      "source": [
        "!ls"
      ],
      "execution_count": 0,
      "outputs": [
        {
          "output_type": "stream",
          "text": [
            "datalab  fashion_mnist.h5  fashion_mnist.json\r\n"
          ],
          "name": "stdout"
        }
      ]
    },
    {
      "metadata": {
        "id": "vfjkjv2p5mWX",
        "colab_type": "code",
        "colab": {}
      },
      "cell_type": "code",
      "source": [
        "from google.colab import files\n",
        "files.download('fashion_mnist.h5')"
      ],
      "execution_count": 0,
      "outputs": []
    },
    {
      "metadata": {
        "id": "9E463QnD-txW",
        "colab_type": "text"
      },
      "cell_type": "markdown",
      "source": [
        "And thats it. The standard way of training a model and then downloading it off the notebook's VM.\n",
        "For more io operation from system or the Google Drive of your account you can refer to Googles own excellent documentation\n",
        "[io docs](https://colab.research.google.com/notebook#fileId=/v2/external/notebooks/io.ipynb&scrollTo=p2E4EKhCWEC5)"
      ]
    },
    {
      "metadata": {
        "id": "H8h6J3dj5yrL",
        "colab_type": "code",
        "colab": {}
      },
      "cell_type": "code",
      "source": [
        ""
      ],
      "execution_count": 0,
      "outputs": []
    }
  ]
}